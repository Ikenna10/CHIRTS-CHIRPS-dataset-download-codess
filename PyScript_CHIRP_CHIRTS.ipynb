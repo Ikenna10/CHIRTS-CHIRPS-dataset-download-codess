{
 "cells": [
  {
   "cell_type": "markdown",
   "id": "d7f70426-1783-4326-9264-982e4997affb",
   "metadata": {},
   "source": [
    "### Downloading CHIRP Precipitation datasets"
   ]
  },
  {
   "cell_type": "code",
   "execution_count": 7,
   "id": "f357fb8f-dd57-44cd-8a0a-563924dd7f26",
   "metadata": {
    "tags": []
   },
   "outputs": [],
   "source": [
    "## import stuff\n",
    "\n",
    "import os\n",
    "import wget"
   ]
  },
  {
   "cell_type": "code",
   "execution_count": 2,
   "id": "5f7e105d-b441-4b71-b2da-980d840e9523",
   "metadata": {
    "tags": []
   },
   "outputs": [
    {
     "data": {
      "text/plain": [
       "'C:\\\\Users\\\\ikennao\\\\OneDrive - Kansas State University\\\\Desktop\\\\Research Group Meeting Folder\\\\PhD reseach_EKSRB\\\\EKSRB_NetCDF_CMIP5 GCMs'"
      ]
     },
     "execution_count": 2,
     "metadata": {},
     "output_type": "execute_result"
    }
   ],
   "source": [
    "# Check your work dir\n",
    "\n",
    "os.getcwd()"
   ]
  },
  {
   "cell_type": "markdown",
   "id": "087fc9e8-fbfd-4dcc-a1e0-16774a927f3f",
   "metadata": {
    "tags": []
   },
   "source": [
    "### Downloading CHIRPS Precipitation Datasets"
   ]
  },
  {
   "cell_type": "code",
   "execution_count": null,
   "id": "61f10248-20fd-48b7-999b-90b29d1fc52b",
   "metadata": {
    "tags": []
   },
   "outputs": [],
   "source": [
    "## make directory\n",
    "os.makedirs('CHIRP_precip_dwnld')"
   ]
  },
  {
   "cell_type": "code",
   "execution_count": 4,
   "id": "0e762f78-a255-4aa3-9bb3-1176f9505188",
   "metadata": {
    "tags": []
   },
   "outputs": [],
   "source": [
    "## Specify year (start and end dates)\n",
    "\n",
    "start_yr = 1991\n",
    "end_yr = 2010\n",
    "\n",
    "# base link/site\n",
    "\n",
    "base_url = 'https://data.chc.ucsb.edu/products/CHIRPS-2.0/global_daily/netcdf/p05/'\n",
    "\n",
    "# Loop over the archive from 1981 to 2022 and format the link\n",
    "for year in range(start_yr,end_yr+1,1):\n",
    "    print(year)\n",
    "    file_start_name = 'chirps-v2.0.'\n",
    "    file_end_name = '.days_p05'\n",
    "    file_extsn = '.nc'\n",
    "    file_name = '{}{}{}{}'.format(file_start_name,year,\n",
    "                                  file_end_name,file_extsn)\n",
    "    # print file name\n",
    "    full_url = '{}/{}'.format(base_url,file_name)\n",
    "    print('{}{}'.format('\\nDownloading------',file_name))\n",
    "    # download with wget\n",
    "    wget.download(full_url, 'CHIRP_precip_dwnld')\n",
    "    print('{}{}'.format(file_name, 'Successful Download'))"
   ]
  },
  {
   "cell_type": "markdown",
   "id": "c08066cb-a679-4a36-b716-2108efa02ba2",
   "metadata": {},
   "source": [
    "### Downloading CHIRTS Min Temp Datasets"
   ]
  },
  {
   "cell_type": "code",
   "execution_count": 6,
   "id": "82fa168d-609c-4e60-acc4-91a59f30061e",
   "metadata": {
    "tags": []
   },
   "outputs": [],
   "source": [
    "## make directory\n",
    "os.makedirs('CHIRTS_mintemp_dwnld')"
   ]
  },
  {
   "cell_type": "code",
   "execution_count": null,
   "id": "00deb4e3-82b0-4cf4-b0e4-b67e08f776e9",
   "metadata": {
    "tags": []
   },
   "outputs": [],
   "source": [
    "\n",
    "## Specify year (start and end dates)\n",
    "\n",
    "start_yr = 1991\n",
    "end_yr = 2010\n",
    "\n",
    "# base link/site\n",
    "base_url = 'http://data.chc.ucsb.edu/products/CHIRTSdaily/v1.0/global_netcdf_p05/Tmin/'\n",
    "\n",
    "# Loop over the archive from 1981 to 2022 and format the link\n",
    "for year in range(start_yr,end_yr+1,1):\n",
    "    print(year)\n",
    "    file_start_name = 'Tmin.'\n",
    "    file_extsn = '.nc'\n",
    "    file_name = '{}{}{}'.format(file_start_name,year,\n",
    "                                  file_extsn)\n",
    "    # print file name\n",
    "    full_url = '{}/{}'.format(base_url,file_name)\n",
    "    print('{}{}'.format('\\nDownloading------',file_name))\n",
    "    # download with wget\n",
    "    wget.download(full_url, 'CHIRTS_mintemp_dwnld')\n",
    "    print('{}{}'.format(file_name, 'Successful Download'))"
   ]
  },
  {
   "cell_type": "markdown",
   "id": "6a935273-23ad-48f4-adfc-22a5e2ea2b2d",
   "metadata": {},
   "source": [
    "### Downloading CHIRTS Max Temp Datasets"
   ]
  },
  {
   "cell_type": "code",
   "execution_count": 9,
   "id": "86efa284-c961-4fd6-be9d-00de8b25becb",
   "metadata": {
    "tags": []
   },
   "outputs": [],
   "source": [
    "## make directory\n",
    "os.makedirs('CHIRTS_maxtemp_dwnld')"
   ]
  },
  {
   "cell_type": "code",
   "execution_count": null,
   "id": "e0c21e17-1630-4ddb-97f9-39daf15cbe2b",
   "metadata": {},
   "outputs": [],
   "source": [
    "## Specify year (start and end dates)\n",
    "\n",
    "start_yr = 1991\n",
    "end_yr = 2010\n",
    "\n",
    "# base link/site\n",
    "base_url = 'http://data.chc.ucsb.edu/products/CHIRTSdaily/v1.0/global_netcdf_p05/Tmax/'\n",
    "\n",
    "# Loop over the archive from 1981 to 2022 and format the link\n",
    "for year in range(start_yr,end_yr+1,1):\n",
    "    print(year)\n",
    "    file_start_name = 'Tmax.'\n",
    "    file_extsn = '.nc'\n",
    "    file_name = '{}{}{}'.format(file_start_name,year,\n",
    "                                  file_extsn)\n",
    "    # print file name\n",
    "    full_url = '{}/{}'.format(base_url,file_name)\n",
    "    print('{}{}'.format('\\nDownloading------',file_name))\n",
    "    # download with wget\n",
    "    wget.download(full_url, 'CHIRTS_maxtemp_dwnld')\n",
    "    print('{}{}'.format(file_name, 'Successful Download'))"
   ]
  }
 ],
 "metadata": {
  "kernelspec": {
   "display_name": "Python 3 (ipykernel)",
   "language": "python",
   "name": "python3"
  },
  "language_info": {
   "codemirror_mode": {
    "name": "ipython",
    "version": 3
   },
   "file_extension": ".py",
   "mimetype": "text/x-python",
   "name": "python",
   "nbconvert_exporter": "python",
   "pygments_lexer": "ipython3",
   "version": "3.9.16"
  }
 },
 "nbformat": 4,
 "nbformat_minor": 5
}
